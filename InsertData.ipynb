{
 "cells": [
  {
   "cell_type": "code",
   "execution_count": 1,
   "metadata": {},
   "outputs": [],
   "source": [
    "# Creating csv with all pizza information Dominos"
   ]
  },
  {
   "cell_type": "code",
   "execution_count": 1,
   "metadata": {},
   "outputs": [],
   "source": [
    "from itertools import combinations_with_replacement\n",
    "from itertools import product\n",
    "import pandas as pd"
   ]
  },
  {
   "cell_type": "code",
   "execution_count": 2,
   "metadata": {},
   "outputs": [],
   "source": [
    "# Dominos Data\n",
    "\n",
    "flavor_list = [\n",
    "        \"3 Queijos\",\"Frango com Requeijão\",\"Calabresa\",\"Corn & Bacon\",\"Pizza de Queijo\",\"Margherita\",\n",
    "        \"Pepperoni\",\"Presunto\",\"Napolitana\",\"América\",\"4 Queijos\",\"Bauru\",\"Búfala La Bianca\",\"Calabresa Especial\",\n",
    "        \"Catuperoni\",\"Egg & Bacon\",\"Frango com Cream Cheese\",\"Frango Grelhado\",\"Pepperrock\",\"Portuguesa\",\n",
    "        \"Veggie®\",\"Extravaganzza®\",\"Meat & Bacon\",\"Frango com Barbecue\"\n",
    "]\n",
    "\n",
    "\n",
    "size_doughs = [\n",
    "    [\"Brotinho\",\"Tradicional\"],\n",
    "    [\"Média\",\"Tradicional\"] ,\n",
    "    [\"Grande\",\"Tradicional\"] ,\n",
    "    [\"Giga\",\"Tradicional\"] ,\n",
    "    [\"Grande\",\"Finissima\"] ,\n",
    "    [\"Média\",\"Fina\"] ,\n",
    "    [\"Grande\",\"Fina\"] ,\n",
    "    [\"Giga\",\"Fina\"] ,\n",
    "    [\"Média\",\"Pan\"]\n",
    "]"
   ]
  },
  {
   "cell_type": "code",
   "execution_count": 3,
   "metadata": {},
   "outputs": [
    {
     "name": "stdout",
     "output_type": "stream",
     "text": [
      "Length of Flavors 24\n"
     ]
    }
   ],
   "source": [
    "# Make it easier in the next steps\n",
    "flavor_list.reverse()\n",
    "\n",
    "print('Length of Flavors', len(flavor_list))"
   ]
  },
  {
   "cell_type": "code",
   "execution_count": 4,
   "metadata": {},
   "outputs": [],
   "source": [
    "# Create all posible combinations of pizza flavors\n",
    "combinations = combinations_with_replacement(flavor_list, 2)\n",
    "all_flavors = []\n",
    "for x in combinations:\n",
    "    all_flavors.append(list(x))"
   ]
  },
  {
   "cell_type": "code",
   "execution_count": 5,
   "metadata": {},
   "outputs": [],
   "source": [
    "# Create all possible combinations of Sizes, Doughs and Flavors\n",
    "combinations2 = product(size_doughs, all_flavors)"
   ]
  },
  {
   "cell_type": "code",
   "execution_count": 6,
   "metadata": {},
   "outputs": [],
   "source": [
    "rows = []\n",
    "for i in combinations2:\n",
    "    rows.append(list(i))"
   ]
  },
  {
   "cell_type": "code",
   "execution_count": 7,
   "metadata": {},
   "outputs": [],
   "source": [
    "clean_rows = []\n",
    "for row in rows:\n",
    "    clean_rows.append([x for r in row for x in r])"
   ]
  },
  {
   "cell_type": "code",
   "execution_count": 8,
   "metadata": {},
   "outputs": [
    {
     "data": {
      "text/plain": [
       "[['Brotinho', 'Tradicional', 'Frango com Barbecue', 'Frango com Barbecue'],\n",
       " ['Brotinho', 'Tradicional', 'Frango com Barbecue', 'Meat & Bacon'],\n",
       " ['Brotinho', 'Tradicional', 'Frango com Barbecue', 'Extravaganzza®'],\n",
       " ['Brotinho', 'Tradicional', 'Frango com Barbecue', 'Veggie®'],\n",
       " ['Brotinho', 'Tradicional', 'Frango com Barbecue', 'Portuguesa']]"
      ]
     },
     "execution_count": 8,
     "metadata": {},
     "output_type": "execute_result"
    }
   ],
   "source": [
    "clean_rows[:5]"
   ]
  },
  {
   "cell_type": "code",
   "execution_count": 9,
   "metadata": {},
   "outputs": [],
   "source": [
    "cols = ['Size', 'Dough', 'MainFlavor', 'SecondFlavor']"
   ]
  },
  {
   "cell_type": "code",
   "execution_count": 10,
   "metadata": {},
   "outputs": [
    {
     "data": {
      "text/html": [
       "<div>\n",
       "<style scoped>\n",
       "    .dataframe tbody tr th:only-of-type {\n",
       "        vertical-align: middle;\n",
       "    }\n",
       "\n",
       "    .dataframe tbody tr th {\n",
       "        vertical-align: top;\n",
       "    }\n",
       "\n",
       "    .dataframe thead th {\n",
       "        text-align: right;\n",
       "    }\n",
       "</style>\n",
       "<table border=\"1\" class=\"dataframe\">\n",
       "  <thead>\n",
       "    <tr style=\"text-align: right;\">\n",
       "      <th></th>\n",
       "      <th>Size</th>\n",
       "      <th>Dough</th>\n",
       "      <th>MainFlavor</th>\n",
       "      <th>SecondFlavor</th>\n",
       "    </tr>\n",
       "  </thead>\n",
       "  <tbody>\n",
       "    <tr>\n",
       "      <th>0</th>\n",
       "      <td>Brotinho</td>\n",
       "      <td>Tradicional</td>\n",
       "      <td>Frango com Barbecue</td>\n",
       "      <td>Frango com Barbecue</td>\n",
       "    </tr>\n",
       "    <tr>\n",
       "      <th>1</th>\n",
       "      <td>Brotinho</td>\n",
       "      <td>Tradicional</td>\n",
       "      <td>Frango com Barbecue</td>\n",
       "      <td>Meat &amp; Bacon</td>\n",
       "    </tr>\n",
       "    <tr>\n",
       "      <th>2</th>\n",
       "      <td>Brotinho</td>\n",
       "      <td>Tradicional</td>\n",
       "      <td>Frango com Barbecue</td>\n",
       "      <td>Extravaganzza®</td>\n",
       "    </tr>\n",
       "    <tr>\n",
       "      <th>3</th>\n",
       "      <td>Brotinho</td>\n",
       "      <td>Tradicional</td>\n",
       "      <td>Frango com Barbecue</td>\n",
       "      <td>Veggie®</td>\n",
       "    </tr>\n",
       "    <tr>\n",
       "      <th>4</th>\n",
       "      <td>Brotinho</td>\n",
       "      <td>Tradicional</td>\n",
       "      <td>Frango com Barbecue</td>\n",
       "      <td>Portuguesa</td>\n",
       "    </tr>\n",
       "  </tbody>\n",
       "</table>\n",
       "</div>"
      ],
      "text/plain": [
       "       Size        Dough           MainFlavor         SecondFlavor\n",
       "0  Brotinho  Tradicional  Frango com Barbecue  Frango com Barbecue\n",
       "1  Brotinho  Tradicional  Frango com Barbecue         Meat & Bacon\n",
       "2  Brotinho  Tradicional  Frango com Barbecue       Extravaganzza®\n",
       "3  Brotinho  Tradicional  Frango com Barbecue              Veggie®\n",
       "4  Brotinho  Tradicional  Frango com Barbecue           Portuguesa"
      ]
     },
     "execution_count": 10,
     "metadata": {},
     "output_type": "execute_result"
    }
   ],
   "source": [
    "df = pd.DataFrame(clean_rows, columns=cols)\n",
    "df.head()"
   ]
  },
  {
   "cell_type": "code",
   "execution_count": 11,
   "metadata": {},
   "outputs": [],
   "source": [
    "type_Especialidades = [\"3 Queijos\",\"Frango com Requeijão\",\"Calabresa\",\"Corn & Bacon\",\"Pizza de Queijo\",\"Margherita\",\"Pepperoni\",\"Presunto\",\"Napolitana\"]\n",
    "type_premium = [\"América\",\"4 Queijos\",\"Bauru\",\"Búfala La Bianca\",\"Calabresa Especial\",\"Catuperoni\",\"Egg & Bacon\",\"Frango com Cream Cheese\"]\n",
    "type_superpremium = [\"Frango Grelhado\",\"Pepperrock\",\"Portuguesa\",\"Veggie®\",\"Extravaganzza®\",\"Meat & Bacon\",\"Frango com Barbecue\"]"
   ]
  },
  {
   "cell_type": "code",
   "execution_count": 12,
   "metadata": {},
   "outputs": [],
   "source": [
    "x = df.MainFlavor.copy()"
   ]
  },
  {
   "cell_type": "code",
   "execution_count": 13,
   "metadata": {},
   "outputs": [],
   "source": [
    "x.replace(type_Especialidades, 'Especialidade', inplace=True)\n",
    "x.replace(type_premium, 'Premium', inplace=True)\n",
    "x.replace(type_superpremium, 'Super Premium', inplace=True)"
   ]
  },
  {
   "cell_type": "code",
   "execution_count": 14,
   "metadata": {},
   "outputs": [],
   "source": [
    "df['typeFlavor'] = x"
   ]
  },
  {
   "cell_type": "code",
   "execution_count": 15,
   "metadata": {},
   "outputs": [
    {
     "data": {
      "text/html": [
       "<div>\n",
       "<style scoped>\n",
       "    .dataframe tbody tr th:only-of-type {\n",
       "        vertical-align: middle;\n",
       "    }\n",
       "\n",
       "    .dataframe tbody tr th {\n",
       "        vertical-align: top;\n",
       "    }\n",
       "\n",
       "    .dataframe thead th {\n",
       "        text-align: right;\n",
       "    }\n",
       "</style>\n",
       "<table border=\"1\" class=\"dataframe\">\n",
       "  <thead>\n",
       "    <tr style=\"text-align: right;\">\n",
       "      <th></th>\n",
       "      <th>Size</th>\n",
       "      <th>Dough</th>\n",
       "      <th>MainFlavor</th>\n",
       "      <th>SecondFlavor</th>\n",
       "      <th>typeFlavor</th>\n",
       "    </tr>\n",
       "  </thead>\n",
       "  <tbody>\n",
       "    <tr>\n",
       "      <th>0</th>\n",
       "      <td>Brotinho</td>\n",
       "      <td>Tradicional</td>\n",
       "      <td>Frango com Barbecue</td>\n",
       "      <td>Frango com Barbecue</td>\n",
       "      <td>Super Premium</td>\n",
       "    </tr>\n",
       "    <tr>\n",
       "      <th>1</th>\n",
       "      <td>Brotinho</td>\n",
       "      <td>Tradicional</td>\n",
       "      <td>Frango com Barbecue</td>\n",
       "      <td>Meat &amp; Bacon</td>\n",
       "      <td>Super Premium</td>\n",
       "    </tr>\n",
       "    <tr>\n",
       "      <th>2</th>\n",
       "      <td>Brotinho</td>\n",
       "      <td>Tradicional</td>\n",
       "      <td>Frango com Barbecue</td>\n",
       "      <td>Extravaganzza®</td>\n",
       "      <td>Super Premium</td>\n",
       "    </tr>\n",
       "    <tr>\n",
       "      <th>3</th>\n",
       "      <td>Brotinho</td>\n",
       "      <td>Tradicional</td>\n",
       "      <td>Frango com Barbecue</td>\n",
       "      <td>Veggie®</td>\n",
       "      <td>Super Premium</td>\n",
       "    </tr>\n",
       "    <tr>\n",
       "      <th>4</th>\n",
       "      <td>Brotinho</td>\n",
       "      <td>Tradicional</td>\n",
       "      <td>Frango com Barbecue</td>\n",
       "      <td>Portuguesa</td>\n",
       "      <td>Super Premium</td>\n",
       "    </tr>\n",
       "  </tbody>\n",
       "</table>\n",
       "</div>"
      ],
      "text/plain": [
       "       Size        Dough           MainFlavor         SecondFlavor  \\\n",
       "0  Brotinho  Tradicional  Frango com Barbecue  Frango com Barbecue   \n",
       "1  Brotinho  Tradicional  Frango com Barbecue         Meat & Bacon   \n",
       "2  Brotinho  Tradicional  Frango com Barbecue       Extravaganzza®   \n",
       "3  Brotinho  Tradicional  Frango com Barbecue              Veggie®   \n",
       "4  Brotinho  Tradicional  Frango com Barbecue           Portuguesa   \n",
       "\n",
       "      typeFlavor  \n",
       "0  Super Premium  \n",
       "1  Super Premium  \n",
       "2  Super Premium  \n",
       "3  Super Premium  \n",
       "4  Super Premium  "
      ]
     },
     "execution_count": 15,
     "metadata": {},
     "output_type": "execute_result"
    }
   ],
   "source": [
    "df.head()"
   ]
  },
  {
   "cell_type": "code",
   "execution_count": 16,
   "metadata": {},
   "outputs": [],
   "source": [
    "cols = ['Size', 'Dough', 'typeFlavor']\n",
    "df['price'] = df[cols].apply(lambda row: '_'.join(row.values.astype(str)), axis=1)"
   ]
  },
  {
   "cell_type": "code",
   "execution_count": 17,
   "metadata": {},
   "outputs": [
    {
     "data": {
      "text/plain": [
       "array(['Super Premium', 'Premium', 'Especialidade'], dtype=object)"
      ]
     },
     "execution_count": 17,
     "metadata": {},
     "output_type": "execute_result"
    }
   ],
   "source": [
    "df.typeFlavor.unique()"
   ]
  },
  {
   "cell_type": "code",
   "execution_count": 18,
   "metadata": {},
   "outputs": [
    {
     "data": {
      "text/html": [
       "<div>\n",
       "<style scoped>\n",
       "    .dataframe tbody tr th:only-of-type {\n",
       "        vertical-align: middle;\n",
       "    }\n",
       "\n",
       "    .dataframe tbody tr th {\n",
       "        vertical-align: top;\n",
       "    }\n",
       "\n",
       "    .dataframe thead th {\n",
       "        text-align: right;\n",
       "    }\n",
       "</style>\n",
       "<table border=\"1\" class=\"dataframe\">\n",
       "  <thead>\n",
       "    <tr style=\"text-align: right;\">\n",
       "      <th></th>\n",
       "      <th>Size</th>\n",
       "      <th>Dough</th>\n",
       "      <th>MainFlavor</th>\n",
       "      <th>SecondFlavor</th>\n",
       "      <th>typeFlavor</th>\n",
       "      <th>price</th>\n",
       "    </tr>\n",
       "  </thead>\n",
       "  <tbody>\n",
       "    <tr>\n",
       "      <th>0</th>\n",
       "      <td>Brotinho</td>\n",
       "      <td>Tradicional</td>\n",
       "      <td>Frango com Barbecue</td>\n",
       "      <td>Frango com Barbecue</td>\n",
       "      <td>Super Premium</td>\n",
       "      <td>Brotinho_Tradicional_Super Premium</td>\n",
       "    </tr>\n",
       "    <tr>\n",
       "      <th>1</th>\n",
       "      <td>Brotinho</td>\n",
       "      <td>Tradicional</td>\n",
       "      <td>Frango com Barbecue</td>\n",
       "      <td>Meat &amp; Bacon</td>\n",
       "      <td>Super Premium</td>\n",
       "      <td>Brotinho_Tradicional_Super Premium</td>\n",
       "    </tr>\n",
       "    <tr>\n",
       "      <th>2</th>\n",
       "      <td>Brotinho</td>\n",
       "      <td>Tradicional</td>\n",
       "      <td>Frango com Barbecue</td>\n",
       "      <td>Extravaganzza®</td>\n",
       "      <td>Super Premium</td>\n",
       "      <td>Brotinho_Tradicional_Super Premium</td>\n",
       "    </tr>\n",
       "    <tr>\n",
       "      <th>3</th>\n",
       "      <td>Brotinho</td>\n",
       "      <td>Tradicional</td>\n",
       "      <td>Frango com Barbecue</td>\n",
       "      <td>Veggie®</td>\n",
       "      <td>Super Premium</td>\n",
       "      <td>Brotinho_Tradicional_Super Premium</td>\n",
       "    </tr>\n",
       "    <tr>\n",
       "      <th>4</th>\n",
       "      <td>Brotinho</td>\n",
       "      <td>Tradicional</td>\n",
       "      <td>Frango com Barbecue</td>\n",
       "      <td>Portuguesa</td>\n",
       "      <td>Super Premium</td>\n",
       "      <td>Brotinho_Tradicional_Super Premium</td>\n",
       "    </tr>\n",
       "  </tbody>\n",
       "</table>\n",
       "</div>"
      ],
      "text/plain": [
       "       Size        Dough           MainFlavor         SecondFlavor  \\\n",
       "0  Brotinho  Tradicional  Frango com Barbecue  Frango com Barbecue   \n",
       "1  Brotinho  Tradicional  Frango com Barbecue         Meat & Bacon   \n",
       "2  Brotinho  Tradicional  Frango com Barbecue       Extravaganzza®   \n",
       "3  Brotinho  Tradicional  Frango com Barbecue              Veggie®   \n",
       "4  Brotinho  Tradicional  Frango com Barbecue           Portuguesa   \n",
       "\n",
       "      typeFlavor                               price  \n",
       "0  Super Premium  Brotinho_Tradicional_Super Premium  \n",
       "1  Super Premium  Brotinho_Tradicional_Super Premium  \n",
       "2  Super Premium  Brotinho_Tradicional_Super Premium  \n",
       "3  Super Premium  Brotinho_Tradicional_Super Premium  \n",
       "4  Super Premium  Brotinho_Tradicional_Super Premium  "
      ]
     },
     "execution_count": 18,
     "metadata": {},
     "output_type": "execute_result"
    }
   ],
   "source": [
    "df.head()"
   ]
  },
  {
   "cell_type": "code",
   "execution_count": 19,
   "metadata": {},
   "outputs": [],
   "source": [
    "dic_prizes = {\n",
    "    \"Brotinho_Tradicional_Super Premium\" : 34.90,\n",
    "    \"Brotinho_Tradicional_Premium\" : 31.90,\n",
    "    \"Brotinho_Tradicional_Especialidade\" : 28.90,\n",
    "\n",
    "    \"Média_Tradicional_Super Premium\" : 72.90,\n",
    "    \"Média_Tradicional_Premium\" : 66.90,\n",
    "    \"Média_Tradicional_Especialidade\" : 60.90,\n",
    "\n",
    "    \"Grande_Tradicional_Super Premium\" : 84.90,\n",
    "    \"Grande_Tradicional_Premium\" : 77.90,\n",
    "    \"Grande_Tradicional_Especialidade\" : 70.90,\n",
    "\n",
    "    \"Giga_Tradicional_Super Premium\" : 93.90,\n",
    "    \"Giga_Tradicional_Premium\" : 85.90,\n",
    "    \"Giga_Tradicional_Especialidade\" : 78.90,\n",
    "\n",
    "    \"Grande_Finissima_Super Premium\" : 62.90, \n",
    "    \"Grande_Finissima_Premium\" : 57.90, \n",
    "    \"Grande_Finissima_Especialidade\" : 52.90, \n",
    "\n",
    "    \"Média_Fina_Super Premium\" : 72.90, \n",
    "    \"Média_Fina_Premium\" : 66.90, \n",
    "    \"Média_Fina_Especialidade\" : 60.90, \n",
    "\n",
    "    \"Grande_Fina_Super Premium\" : 84.90, \n",
    "    \"Grande_Fina_Premium\" : 77.90, \n",
    "    \"Grande_Fina_Especialidade\" : 70.90, \n",
    "\n",
    "    \"Giga_Fina_Super Premium\" : 93.90, \n",
    "    \"Giga_Fina_Premium\" : 85.90, \n",
    "    \"Giga_Fina_Especialidade\" : 78.90, \n",
    "\n",
    "    \"Média_Pan_Super Premium\" : 62.90, \n",
    "    \"Média_Pan_Premium\" : 57.90, \n",
    "    \"Média_Pan_Especialidade\" : 52.90 \n",
    "\n",
    "}"
   ]
  },
  {
   "cell_type": "code",
   "execution_count": 20,
   "metadata": {},
   "outputs": [],
   "source": [
    "df['price'] = df['price'].map(dic_prizes)"
   ]
  },
  {
   "cell_type": "code",
   "execution_count": 21,
   "metadata": {},
   "outputs": [
    {
     "data": {
      "text/html": [
       "<div>\n",
       "<style scoped>\n",
       "    .dataframe tbody tr th:only-of-type {\n",
       "        vertical-align: middle;\n",
       "    }\n",
       "\n",
       "    .dataframe tbody tr th {\n",
       "        vertical-align: top;\n",
       "    }\n",
       "\n",
       "    .dataframe thead th {\n",
       "        text-align: right;\n",
       "    }\n",
       "</style>\n",
       "<table border=\"1\" class=\"dataframe\">\n",
       "  <thead>\n",
       "    <tr style=\"text-align: right;\">\n",
       "      <th></th>\n",
       "      <th>Size</th>\n",
       "      <th>Dough</th>\n",
       "      <th>MainFlavor</th>\n",
       "      <th>SecondFlavor</th>\n",
       "      <th>typeFlavor</th>\n",
       "      <th>price</th>\n",
       "    </tr>\n",
       "  </thead>\n",
       "  <tbody>\n",
       "    <tr>\n",
       "      <th>0</th>\n",
       "      <td>Brotinho</td>\n",
       "      <td>Tradicional</td>\n",
       "      <td>Frango com Barbecue</td>\n",
       "      <td>Frango com Barbecue</td>\n",
       "      <td>Super Premium</td>\n",
       "      <td>34.9</td>\n",
       "    </tr>\n",
       "    <tr>\n",
       "      <th>1</th>\n",
       "      <td>Brotinho</td>\n",
       "      <td>Tradicional</td>\n",
       "      <td>Frango com Barbecue</td>\n",
       "      <td>Meat &amp; Bacon</td>\n",
       "      <td>Super Premium</td>\n",
       "      <td>34.9</td>\n",
       "    </tr>\n",
       "    <tr>\n",
       "      <th>2</th>\n",
       "      <td>Brotinho</td>\n",
       "      <td>Tradicional</td>\n",
       "      <td>Frango com Barbecue</td>\n",
       "      <td>Extravaganzza®</td>\n",
       "      <td>Super Premium</td>\n",
       "      <td>34.9</td>\n",
       "    </tr>\n",
       "    <tr>\n",
       "      <th>3</th>\n",
       "      <td>Brotinho</td>\n",
       "      <td>Tradicional</td>\n",
       "      <td>Frango com Barbecue</td>\n",
       "      <td>Veggie®</td>\n",
       "      <td>Super Premium</td>\n",
       "      <td>34.9</td>\n",
       "    </tr>\n",
       "    <tr>\n",
       "      <th>4</th>\n",
       "      <td>Brotinho</td>\n",
       "      <td>Tradicional</td>\n",
       "      <td>Frango com Barbecue</td>\n",
       "      <td>Portuguesa</td>\n",
       "      <td>Super Premium</td>\n",
       "      <td>34.9</td>\n",
       "    </tr>\n",
       "  </tbody>\n",
       "</table>\n",
       "</div>"
      ],
      "text/plain": [
       "       Size        Dough           MainFlavor         SecondFlavor  \\\n",
       "0  Brotinho  Tradicional  Frango com Barbecue  Frango com Barbecue   \n",
       "1  Brotinho  Tradicional  Frango com Barbecue         Meat & Bacon   \n",
       "2  Brotinho  Tradicional  Frango com Barbecue       Extravaganzza®   \n",
       "3  Brotinho  Tradicional  Frango com Barbecue              Veggie®   \n",
       "4  Brotinho  Tradicional  Frango com Barbecue           Portuguesa   \n",
       "\n",
       "      typeFlavor  price  \n",
       "0  Super Premium   34.9  \n",
       "1  Super Premium   34.9  \n",
       "2  Super Premium   34.9  \n",
       "3  Super Premium   34.9  \n",
       "4  Super Premium   34.9  "
      ]
     },
     "execution_count": 21,
     "metadata": {},
     "output_type": "execute_result"
    }
   ],
   "source": [
    "df.head()"
   ]
  },
  {
   "cell_type": "code",
   "execution_count": 38,
   "metadata": {},
   "outputs": [
    {
     "data": {
      "text/html": [
       "<div>\n",
       "<style scoped>\n",
       "    .dataframe tbody tr th:only-of-type {\n",
       "        vertical-align: middle;\n",
       "    }\n",
       "\n",
       "    .dataframe tbody tr th {\n",
       "        vertical-align: top;\n",
       "    }\n",
       "\n",
       "    .dataframe thead th {\n",
       "        text-align: right;\n",
       "    }\n",
       "</style>\n",
       "<table border=\"1\" class=\"dataframe\">\n",
       "  <thead>\n",
       "    <tr style=\"text-align: right;\">\n",
       "      <th></th>\n",
       "      <th>Size</th>\n",
       "      <th>Dough</th>\n",
       "      <th>MainFlavor</th>\n",
       "      <th>SecondFlavor</th>\n",
       "      <th>typeFlavor</th>\n",
       "      <th>price</th>\n",
       "    </tr>\n",
       "  </thead>\n",
       "  <tbody>\n",
       "    <tr>\n",
       "      <th>2695</th>\n",
       "      <td>Média</td>\n",
       "      <td>Pan</td>\n",
       "      <td>Calabresa</td>\n",
       "      <td>Frango com Requeijão</td>\n",
       "      <td>Especialidade</td>\n",
       "      <td>52.9</td>\n",
       "    </tr>\n",
       "    <tr>\n",
       "      <th>2696</th>\n",
       "      <td>Média</td>\n",
       "      <td>Pan</td>\n",
       "      <td>Calabresa</td>\n",
       "      <td>3 Queijos</td>\n",
       "      <td>Especialidade</td>\n",
       "      <td>52.9</td>\n",
       "    </tr>\n",
       "    <tr>\n",
       "      <th>2697</th>\n",
       "      <td>Média</td>\n",
       "      <td>Pan</td>\n",
       "      <td>Frango com Requeijão</td>\n",
       "      <td>Frango com Requeijão</td>\n",
       "      <td>Especialidade</td>\n",
       "      <td>52.9</td>\n",
       "    </tr>\n",
       "    <tr>\n",
       "      <th>2698</th>\n",
       "      <td>Média</td>\n",
       "      <td>Pan</td>\n",
       "      <td>Frango com Requeijão</td>\n",
       "      <td>3 Queijos</td>\n",
       "      <td>Especialidade</td>\n",
       "      <td>52.9</td>\n",
       "    </tr>\n",
       "    <tr>\n",
       "      <th>2699</th>\n",
       "      <td>Média</td>\n",
       "      <td>Pan</td>\n",
       "      <td>3 Queijos</td>\n",
       "      <td>3 Queijos</td>\n",
       "      <td>Especialidade</td>\n",
       "      <td>52.9</td>\n",
       "    </tr>\n",
       "  </tbody>\n",
       "</table>\n",
       "</div>"
      ],
      "text/plain": [
       "       Size Dough            MainFlavor          SecondFlavor     typeFlavor  \\\n",
       "2695  Média   Pan             Calabresa  Frango com Requeijão  Especialidade   \n",
       "2696  Média   Pan             Calabresa             3 Queijos  Especialidade   \n",
       "2697  Média   Pan  Frango com Requeijão  Frango com Requeijão  Especialidade   \n",
       "2698  Média   Pan  Frango com Requeijão             3 Queijos  Especialidade   \n",
       "2699  Média   Pan             3 Queijos             3 Queijos  Especialidade   \n",
       "\n",
       "      price  \n",
       "2695   52.9  \n",
       "2696   52.9  \n",
       "2697   52.9  \n",
       "2698   52.9  \n",
       "2699   52.9  "
      ]
     },
     "execution_count": 38,
     "metadata": {},
     "output_type": "execute_result"
    }
   ],
   "source": [
    "df.tail()"
   ]
  },
  {
   "cell_type": "code",
   "execution_count": 39,
   "metadata": {},
   "outputs": [],
   "source": [
    "df.to_csv('Pizza.csv')"
   ]
  },
  {
   "cell_type": "code",
   "execution_count": 22,
   "metadata": {},
   "outputs": [],
   "source": [
    "indexes = [45,None,456,None,None,789,80,2000,1700,None,1,6,None,67,89,59,1298,489,None,374,1537,1489,935,199,None,9,90,2000,2003,789,1090,None,620,56,1286,1070,2070,1670,None,12,689,1400,472,990,None,2035,722,2555,2300,768,None,23,26,555,None,1899,65,None,689]"
   ]
  },
  {
   "cell_type": "code",
   "execution_count": 31,
   "metadata": {},
   "outputs": [],
   "source": [
    "indexes2 = [None,28,None,None,None,None,None,None,None,None,None,None,20,None,None,None,None,None,None,None,None,None,None,None,None,None,None,None,None,None,None,2,None,None,None,None,None,None,None,None,None,None,None,None,1,None,None,None,None,None,2,None,None,None,2,None,None,None,None]"
   ]
  },
  {
   "cell_type": "code",
   "execution_count": 34,
   "metadata": {},
   "outputs": [],
   "source": [
    "indexes3 = [None,None,None,10,10,None,None,None,None,1,None,None,None,None,None,None,None,None,15,None,None,None,None,None,5,None,None,None,None,None,None,None,None,None,None,None,None,None,15,None,None,None,None,None,None,None,None,None,None,None,None,None,None,None,None,None,None,5,None]"
   ]
  },
  {
   "cell_type": "code",
   "execution_count": 29,
   "metadata": {},
   "outputs": [],
   "source": [
    "prices = []\n",
    "for i in indexes:\n",
    "    try:\n",
    "        df.price[i]\n",
    "        prices.append(df.price[i])\n",
    "    except:\n",
    "        prices.append('0')\n",
    "    "
   ]
  },
  {
   "cell_type": "code",
   "execution_count": 32,
   "metadata": {},
   "outputs": [],
   "source": [
    "prices = []\n",
    "for i in indexes2:\n",
    "    try:\n",
    "        df.price[i]\n",
    "        prices.append(df.price[i])\n",
    "    except:\n",
    "        prices.append('0')\n",
    "    "
   ]
  },
  {
   "cell_type": "code",
   "execution_count": 35,
   "metadata": {},
   "outputs": [],
   "source": [
    "prices = []\n",
    "for i in indexes3:\n",
    "    try:\n",
    "        df.price[i]\n",
    "        prices.append(df.price[i])\n",
    "    except:\n",
    "        prices.append('0')\n",
    "    "
   ]
  },
  {
   "cell_type": "markdown",
   "metadata": {},
   "source": [
    "# Helper (Create orders)"
   ]
  },
  {
   "cell_type": "code",
   "execution_count": 37,
   "metadata": {},
   "outputs": [],
   "source": [
    "\n",
    "restaurants = [\n",
    "    \"Rio de Janeiro\",\n",
    "    \"Niteroi\",\n",
    "    \"Sao Paulo\",\n",
    "    \"Belo Horizonte\",\n",
    "    \"Vitoria\"\n",
    "]\n",
    "\n",
    "customers = {\n",
    "    \"Rio de Janeiro\" : [1,2,3,4,5],\n",
    "    \"Niteroi\" : [6,7,15,19],\n",
    "    \"Sao Paulo\" : [8,9,14,13,20],\n",
    "    \"Belo Horizonte\"  : [10,11,12],\n",
    "    \"Vitoria\" : [16,17,18]\n",
    "}\n",
    "\n",
    "staffs = {\n",
    "    \"Rio de Janeiro\" : 6,\n",
    "    \"Niteroi\" : 12,\n",
    "    \"Sao Paulo\" : 18,\n",
    "    \"Belo Horizonte\"  : 24,\n",
    "    \"Vitoria\" : 30\n",
    "}\n",
    "\n",
    "possible_max_range = {\n",
    "    \"bev\" : 29,\n",
    "    \"non\" : 16,\n",
    "    \"pizza\" : 2700\n",
    "}\n",
    "\n",
    "\n",
    "\n",
    "\n",
    "# Make order\n",
    "\n",
    "# Give city number\n",
    "    # get city name from list\n",
    "    # rest_id = city_number\n",
    "# Give user_id ... check if is in customersdict\n",
    "    # staff_id = staffs[city_name]\n",
    "    # ord_id = i \n",
    "\n",
    "\n",
    "\n",
    "\n"
   ]
  },
  {
   "cell_type": "code",
   "execution_count": null,
   "metadata": {},
   "outputs": [],
   "source": [
    "def makeOrder(i):\n",
    "    row = {}\n",
    "    row[\"ord_id\"] = i\n",
    "    city_id = int(input('Give City ....'))\n",
    "    row[\"rest_id\"] = city_id + 1\n",
    "    city_name = restaurants[city_id]\n",
    "    row[\"staff_id\"] = staffs[city_name]\n",
    "    print(city_name)\n",
    "    print(\"available users : \", customers[city_name])\n",
    "    while True:\n",
    "        user_id = int(input(\"Give user id\")) \n",
    "        if user_id in customers[city_name]:\n",
    "            row[\"cust_id\"] = user_id\n",
    "            break\n",
    "        else:\n",
    "            print('Wrong User')\n",
    "\n",
    "\n",
    "    print(\"WOW TIME TO SELECT ITEMS YOU WANT\")\n",
    "\n",
    "    #print(\"GIVE CUPOM\")\n",
    "    #cupom_id  = int(input('Max value 15 CUPOM'))\n",
    "    #print(\"GIVE Final Price\")\n",
    "    #price = float(('Give final Price'))\n",
    "    #print(\"GIVE OrderType\")\n",
    "    #orderType = input('OrderType DELIVER OR PRESENCIAL')\n",
    "    #print(\"GIVE PaymentMethod\")\n",
    "    #paymentType = input('PaymentMethod Card OR Card')\n",
    "    #print(\"GIVE StartDate\")\n",
    "    #start_date = input('Give random time')\n",
    "    #print(\"GIVE DeliverDate\")\n",
    "    #Deliver_date = input('Give random time')\n",
    "\n",
    "    return row"
   ]
  },
  {
   "cell_type": "code",
   "execution_count": null,
   "metadata": {},
   "outputs": [],
   "source": [
    "def askOrder(ord_id):\n",
    "    while True:\n",
    "        row_orderItem = {}\n",
    "        row_orderItem['ord_id'] = ord_id\n",
    "        \n",
    "        print(\"Options bev, non AND pizza\")\n",
    "        orderType = input('Give orderType ...')\n",
    "        print(\"Give ID of ITEM type\", orderType, \"\\n The max value is \", possible_max_range[orderType])\n",
    "\n",
    "        itemId = int(input(\"Give ID\"))\n",
    "\n",
    "        if orderType == \"bev\":\n",
    "            row_orderItem['beverage_id'] = itemId\n",
    "            row_orderItem['pizza_id'] = None\n",
    "            row_orderItem['nonpizza_id'] = None\n",
    "\n",
    "        elif orderType == \"non\":\n",
    "            row_orderItem['nonpizza_id'] = itemId\n",
    "            row_orderItem['pizza_id'] = None\n",
    "            row_orderItem['beverage_id'] = None\n",
    "\n",
    "        else:\n",
    "            row_orderItem['pizza_id'] = itemId\n",
    "            row_orderItem['beverage_id'] = None\n",
    "            row_orderItem['nonpizza_id'] = None\n",
    "\n",
    "\n",
    "        print(\"Select the amount of this item\")\n",
    "        quantity = int(input(\"Give me the amount you want\"))\n",
    "        row_orderItem['quantity'] = quantity\n",
    "\n",
    "        x = input(\"You want more items ??? y ?\")\n",
    "        print(row_orderItem)\n",
    "        if x != \"y\":\n",
    "            break\n"
   ]
  }
 ],
 "metadata": {
  "kernelspec": {
   "display_name": "Python 3.8.8 ('base')",
   "language": "python",
   "name": "python3"
  },
  "language_info": {
   "codemirror_mode": {
    "name": "ipython",
    "version": 3
   },
   "file_extension": ".py",
   "mimetype": "text/x-python",
   "name": "python",
   "nbconvert_exporter": "python",
   "pygments_lexer": "ipython3",
   "version": "3.8.8"
  },
  "orig_nbformat": 4,
  "vscode": {
   "interpreter": {
    "hash": "2a9c283881288bc8345488d89afcea2916cc52ed9130ad0e473a7427fa4f195f"
   }
  }
 },
 "nbformat": 4,
 "nbformat_minor": 2
}
