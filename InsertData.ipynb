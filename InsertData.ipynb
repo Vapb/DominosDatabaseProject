{
 "cells": [
  {
   "cell_type": "code",
   "execution_count": 1,
   "metadata": {},
   "outputs": [],
   "source": [
    "# Creating csv with all pizza information Dominos"
   ]
  },
  {
   "cell_type": "code",
   "execution_count": 45,
   "metadata": {},
   "outputs": [],
   "source": [
    "from itertools import combinations_with_replacement\n",
    "from itertools import product\n",
    "import pandas as pd"
   ]
  },
  {
   "cell_type": "code",
   "execution_count": 69,
   "metadata": {},
   "outputs": [],
   "source": [
    "# Dominos Data\n",
    "\n",
    "flavor_list = [\n",
    "        \"3 Queijos\",\"Frango com Requeijão\",\"Calabresa\",\"Corn & Bacon\",\"Pizza de Queijo\",\"Margherita\",\n",
    "        \"Pepperoni\",\"Presunto\",\"Napolitana\",\"América\",\"4 Queijos\",\"Bauru\",\"Búfala La Bianca\",\"Calabresa Especial\",\n",
    "        \"Catuperoni\",\"Egg & Bacon\",\"Frango com Cream Cheese\",\"Frango Grelhado\",\"Pepperrock\",\"Portuguesa\",\n",
    "        \"Veggie®\",\"Extravaganzza®\",\"Meat & Bacon\",\"Frango com Barbecue\"\n",
    "]\n",
    "\n",
    "\n",
    "size_doughs = [\n",
    "    [\"Brotinho\",\"Tradicional\"],\n",
    "    [\"Média\",\"Tradicional\"] ,\n",
    "    [\"Grande\",\"Tradicional\"] ,\n",
    "    [\"Giga\",\"Tradicional\"] ,\n",
    "    [\"Grande\",\"Finissima\"] ,\n",
    "    [\"Média\",\"Fina\"] ,\n",
    "    [\"Grande\",\"Fina\"] ,\n",
    "    [\"Giga\",\"Fina\"] ,\n",
    "    [\"Média\",\"Pan\"]\n",
    "]"
   ]
  },
  {
   "cell_type": "code",
   "execution_count": 70,
   "metadata": {},
   "outputs": [
    {
     "name": "stdout",
     "output_type": "stream",
     "text": [
      "Length of Flavors 24\n"
     ]
    }
   ],
   "source": [
    "# Make it easier in the next steps\n",
    "flavor_list.reverse()\n",
    "\n",
    "print('Length of Flavors', len(flavor_list))"
   ]
  },
  {
   "cell_type": "code",
   "execution_count": 71,
   "metadata": {},
   "outputs": [],
   "source": [
    "# Create all posible combinations of pizza flavors\n",
    "combinations = combinations_with_replacement(flavor_list, 2)\n",
    "all_flavors = []\n",
    "for x in combinations:\n",
    "    all_flavors.append(list(x))"
   ]
  },
  {
   "cell_type": "code",
   "execution_count": 72,
   "metadata": {},
   "outputs": [],
   "source": [
    "# Create all possible combinations of Sizes, Doughs and Flavors\n",
    "combinations2 = product(size_doughs, all_flavors)"
   ]
  },
  {
   "cell_type": "code",
   "execution_count": 73,
   "metadata": {},
   "outputs": [],
   "source": [
    "rows = []\n",
    "for i in combinations2:\n",
    "    rows.append(list(i))"
   ]
  },
  {
   "cell_type": "code",
   "execution_count": 74,
   "metadata": {},
   "outputs": [],
   "source": [
    "clean_rows = []\n",
    "for row in rows:\n",
    "    clean_rows.append([x for r in row for x in r])"
   ]
  },
  {
   "cell_type": "code",
   "execution_count": 75,
   "metadata": {},
   "outputs": [
    {
     "data": {
      "text/plain": [
       "[['Brotinho', 'Tradicional', 'Frango com Barbecue', 'Frango com Barbecue'],\n",
       " ['Brotinho', 'Tradicional', 'Frango com Barbecue', 'Meat & Bacon'],\n",
       " ['Brotinho', 'Tradicional', 'Frango com Barbecue', 'Extravaganzza®'],\n",
       " ['Brotinho', 'Tradicional', 'Frango com Barbecue', 'Veggie®'],\n",
       " ['Brotinho', 'Tradicional', 'Frango com Barbecue', 'Portuguesa']]"
      ]
     },
     "execution_count": 75,
     "metadata": {},
     "output_type": "execute_result"
    }
   ],
   "source": [
    "clean_rows[:5]"
   ]
  },
  {
   "cell_type": "code",
   "execution_count": 76,
   "metadata": {},
   "outputs": [],
   "source": [
    "cols = ['Size', 'Dough', 'MainFlavor', 'SecondFlavor']"
   ]
  },
  {
   "cell_type": "code",
   "execution_count": 77,
   "metadata": {},
   "outputs": [
    {
     "data": {
      "text/html": [
       "<div>\n",
       "<style scoped>\n",
       "    .dataframe tbody tr th:only-of-type {\n",
       "        vertical-align: middle;\n",
       "    }\n",
       "\n",
       "    .dataframe tbody tr th {\n",
       "        vertical-align: top;\n",
       "    }\n",
       "\n",
       "    .dataframe thead th {\n",
       "        text-align: right;\n",
       "    }\n",
       "</style>\n",
       "<table border=\"1\" class=\"dataframe\">\n",
       "  <thead>\n",
       "    <tr style=\"text-align: right;\">\n",
       "      <th></th>\n",
       "      <th>Size</th>\n",
       "      <th>Dough</th>\n",
       "      <th>MainFlavor</th>\n",
       "      <th>SecondFlavor</th>\n",
       "    </tr>\n",
       "  </thead>\n",
       "  <tbody>\n",
       "    <tr>\n",
       "      <th>0</th>\n",
       "      <td>Brotinho</td>\n",
       "      <td>Tradicional</td>\n",
       "      <td>Frango com Barbecue</td>\n",
       "      <td>Frango com Barbecue</td>\n",
       "    </tr>\n",
       "    <tr>\n",
       "      <th>1</th>\n",
       "      <td>Brotinho</td>\n",
       "      <td>Tradicional</td>\n",
       "      <td>Frango com Barbecue</td>\n",
       "      <td>Meat &amp; Bacon</td>\n",
       "    </tr>\n",
       "    <tr>\n",
       "      <th>2</th>\n",
       "      <td>Brotinho</td>\n",
       "      <td>Tradicional</td>\n",
       "      <td>Frango com Barbecue</td>\n",
       "      <td>Extravaganzza®</td>\n",
       "    </tr>\n",
       "    <tr>\n",
       "      <th>3</th>\n",
       "      <td>Brotinho</td>\n",
       "      <td>Tradicional</td>\n",
       "      <td>Frango com Barbecue</td>\n",
       "      <td>Veggie®</td>\n",
       "    </tr>\n",
       "    <tr>\n",
       "      <th>4</th>\n",
       "      <td>Brotinho</td>\n",
       "      <td>Tradicional</td>\n",
       "      <td>Frango com Barbecue</td>\n",
       "      <td>Portuguesa</td>\n",
       "    </tr>\n",
       "  </tbody>\n",
       "</table>\n",
       "</div>"
      ],
      "text/plain": [
       "       Size        Dough           MainFlavor         SecondFlavor\n",
       "0  Brotinho  Tradicional  Frango com Barbecue  Frango com Barbecue\n",
       "1  Brotinho  Tradicional  Frango com Barbecue         Meat & Bacon\n",
       "2  Brotinho  Tradicional  Frango com Barbecue       Extravaganzza®\n",
       "3  Brotinho  Tradicional  Frango com Barbecue              Veggie®\n",
       "4  Brotinho  Tradicional  Frango com Barbecue           Portuguesa"
      ]
     },
     "execution_count": 77,
     "metadata": {},
     "output_type": "execute_result"
    }
   ],
   "source": [
    "df = pd.DataFrame(clean_rows, columns=cols)\n",
    "df.head()"
   ]
  },
  {
   "cell_type": "code",
   "execution_count": 78,
   "metadata": {},
   "outputs": [],
   "source": [
    "type_Especialidades = [\"3 Queijos\",\"Frango com Requeijão\",\"Calabresa\",\"Corn & Bacon\",\"Pizza de Queijo\",\"Margherita\",\"Pepperoni\",\"Presunto\",\"Napolitana\"]\n",
    "type_premium = [\"América\",\"4 Queijos\",\"Bauru\",\"Búfala La Bianca\",\"Calabresa Especial\",\"Catuperoni\",\"Egg & Bacon\",\"Frango com Cream Cheese\"]\n",
    "type_superpremium = [\"Frango Grelhado\",\"Pepperrock\",\"Portuguesa\",\"Veggie®\",\"Extravaganzza®\",\"Meat & Bacon\",\"Frango com Barbecue\"]"
   ]
  },
  {
   "cell_type": "code",
   "execution_count": 79,
   "metadata": {},
   "outputs": [],
   "source": [
    "x = df.MainFlavor.copy()"
   ]
  },
  {
   "cell_type": "code",
   "execution_count": 80,
   "metadata": {},
   "outputs": [],
   "source": [
    "x.replace(type_Especialidades, 'Especialidade', inplace=True)\n",
    "x.replace(type_premium, 'Premium', inplace=True)\n",
    "x.replace(type_superpremium, 'Super Premium', inplace=True)"
   ]
  },
  {
   "cell_type": "code",
   "execution_count": 81,
   "metadata": {},
   "outputs": [],
   "source": [
    "df['typeFlavor'] = x"
   ]
  },
  {
   "cell_type": "code",
   "execution_count": 82,
   "metadata": {},
   "outputs": [
    {
     "data": {
      "text/html": [
       "<div>\n",
       "<style scoped>\n",
       "    .dataframe tbody tr th:only-of-type {\n",
       "        vertical-align: middle;\n",
       "    }\n",
       "\n",
       "    .dataframe tbody tr th {\n",
       "        vertical-align: top;\n",
       "    }\n",
       "\n",
       "    .dataframe thead th {\n",
       "        text-align: right;\n",
       "    }\n",
       "</style>\n",
       "<table border=\"1\" class=\"dataframe\">\n",
       "  <thead>\n",
       "    <tr style=\"text-align: right;\">\n",
       "      <th></th>\n",
       "      <th>Size</th>\n",
       "      <th>Dough</th>\n",
       "      <th>MainFlavor</th>\n",
       "      <th>SecondFlavor</th>\n",
       "      <th>typeFlavor</th>\n",
       "    </tr>\n",
       "  </thead>\n",
       "  <tbody>\n",
       "    <tr>\n",
       "      <th>0</th>\n",
       "      <td>Brotinho</td>\n",
       "      <td>Tradicional</td>\n",
       "      <td>Frango com Barbecue</td>\n",
       "      <td>Frango com Barbecue</td>\n",
       "      <td>Super Premium</td>\n",
       "    </tr>\n",
       "    <tr>\n",
       "      <th>1</th>\n",
       "      <td>Brotinho</td>\n",
       "      <td>Tradicional</td>\n",
       "      <td>Frango com Barbecue</td>\n",
       "      <td>Meat &amp; Bacon</td>\n",
       "      <td>Super Premium</td>\n",
       "    </tr>\n",
       "    <tr>\n",
       "      <th>2</th>\n",
       "      <td>Brotinho</td>\n",
       "      <td>Tradicional</td>\n",
       "      <td>Frango com Barbecue</td>\n",
       "      <td>Extravaganzza®</td>\n",
       "      <td>Super Premium</td>\n",
       "    </tr>\n",
       "    <tr>\n",
       "      <th>3</th>\n",
       "      <td>Brotinho</td>\n",
       "      <td>Tradicional</td>\n",
       "      <td>Frango com Barbecue</td>\n",
       "      <td>Veggie®</td>\n",
       "      <td>Super Premium</td>\n",
       "    </tr>\n",
       "    <tr>\n",
       "      <th>4</th>\n",
       "      <td>Brotinho</td>\n",
       "      <td>Tradicional</td>\n",
       "      <td>Frango com Barbecue</td>\n",
       "      <td>Portuguesa</td>\n",
       "      <td>Super Premium</td>\n",
       "    </tr>\n",
       "  </tbody>\n",
       "</table>\n",
       "</div>"
      ],
      "text/plain": [
       "       Size        Dough           MainFlavor         SecondFlavor  \\\n",
       "0  Brotinho  Tradicional  Frango com Barbecue  Frango com Barbecue   \n",
       "1  Brotinho  Tradicional  Frango com Barbecue         Meat & Bacon   \n",
       "2  Brotinho  Tradicional  Frango com Barbecue       Extravaganzza®   \n",
       "3  Brotinho  Tradicional  Frango com Barbecue              Veggie®   \n",
       "4  Brotinho  Tradicional  Frango com Barbecue           Portuguesa   \n",
       "\n",
       "      typeFlavor  \n",
       "0  Super Premium  \n",
       "1  Super Premium  \n",
       "2  Super Premium  \n",
       "3  Super Premium  \n",
       "4  Super Premium  "
      ]
     },
     "execution_count": 82,
     "metadata": {},
     "output_type": "execute_result"
    }
   ],
   "source": [
    "df.head()"
   ]
  },
  {
   "cell_type": "code",
   "execution_count": 98,
   "metadata": {},
   "outputs": [],
   "source": [
    "cols = ['Size', 'Dough', 'typeFlavor']\n",
    "df['price'] = df[cols].apply(lambda row: '_'.join(row.values.astype(str)), axis=1)"
   ]
  },
  {
   "cell_type": "code",
   "execution_count": 99,
   "metadata": {},
   "outputs": [
    {
     "data": {
      "text/plain": [
       "array(['Super Premium', 'Premium', 'Especialidade'], dtype=object)"
      ]
     },
     "execution_count": 99,
     "metadata": {},
     "output_type": "execute_result"
    }
   ],
   "source": [
    "df.typeFlavor.unique()"
   ]
  },
  {
   "cell_type": "code",
   "execution_count": 100,
   "metadata": {},
   "outputs": [
    {
     "data": {
      "text/html": [
       "<div>\n",
       "<style scoped>\n",
       "    .dataframe tbody tr th:only-of-type {\n",
       "        vertical-align: middle;\n",
       "    }\n",
       "\n",
       "    .dataframe tbody tr th {\n",
       "        vertical-align: top;\n",
       "    }\n",
       "\n",
       "    .dataframe thead th {\n",
       "        text-align: right;\n",
       "    }\n",
       "</style>\n",
       "<table border=\"1\" class=\"dataframe\">\n",
       "  <thead>\n",
       "    <tr style=\"text-align: right;\">\n",
       "      <th></th>\n",
       "      <th>Size</th>\n",
       "      <th>Dough</th>\n",
       "      <th>MainFlavor</th>\n",
       "      <th>SecondFlavor</th>\n",
       "      <th>typeFlavor</th>\n",
       "      <th>price</th>\n",
       "    </tr>\n",
       "  </thead>\n",
       "  <tbody>\n",
       "    <tr>\n",
       "      <th>0</th>\n",
       "      <td>Brotinho</td>\n",
       "      <td>Tradicional</td>\n",
       "      <td>Frango com Barbecue</td>\n",
       "      <td>Frango com Barbecue</td>\n",
       "      <td>Super Premium</td>\n",
       "      <td>Brotinho_Tradicional_Super Premium</td>\n",
       "    </tr>\n",
       "    <tr>\n",
       "      <th>1</th>\n",
       "      <td>Brotinho</td>\n",
       "      <td>Tradicional</td>\n",
       "      <td>Frango com Barbecue</td>\n",
       "      <td>Meat &amp; Bacon</td>\n",
       "      <td>Super Premium</td>\n",
       "      <td>Brotinho_Tradicional_Super Premium</td>\n",
       "    </tr>\n",
       "    <tr>\n",
       "      <th>2</th>\n",
       "      <td>Brotinho</td>\n",
       "      <td>Tradicional</td>\n",
       "      <td>Frango com Barbecue</td>\n",
       "      <td>Extravaganzza®</td>\n",
       "      <td>Super Premium</td>\n",
       "      <td>Brotinho_Tradicional_Super Premium</td>\n",
       "    </tr>\n",
       "    <tr>\n",
       "      <th>3</th>\n",
       "      <td>Brotinho</td>\n",
       "      <td>Tradicional</td>\n",
       "      <td>Frango com Barbecue</td>\n",
       "      <td>Veggie®</td>\n",
       "      <td>Super Premium</td>\n",
       "      <td>Brotinho_Tradicional_Super Premium</td>\n",
       "    </tr>\n",
       "    <tr>\n",
       "      <th>4</th>\n",
       "      <td>Brotinho</td>\n",
       "      <td>Tradicional</td>\n",
       "      <td>Frango com Barbecue</td>\n",
       "      <td>Portuguesa</td>\n",
       "      <td>Super Premium</td>\n",
       "      <td>Brotinho_Tradicional_Super Premium</td>\n",
       "    </tr>\n",
       "  </tbody>\n",
       "</table>\n",
       "</div>"
      ],
      "text/plain": [
       "       Size        Dough           MainFlavor         SecondFlavor  \\\n",
       "0  Brotinho  Tradicional  Frango com Barbecue  Frango com Barbecue   \n",
       "1  Brotinho  Tradicional  Frango com Barbecue         Meat & Bacon   \n",
       "2  Brotinho  Tradicional  Frango com Barbecue       Extravaganzza®   \n",
       "3  Brotinho  Tradicional  Frango com Barbecue              Veggie®   \n",
       "4  Brotinho  Tradicional  Frango com Barbecue           Portuguesa   \n",
       "\n",
       "      typeFlavor                               price  \n",
       "0  Super Premium  Brotinho_Tradicional_Super Premium  \n",
       "1  Super Premium  Brotinho_Tradicional_Super Premium  \n",
       "2  Super Premium  Brotinho_Tradicional_Super Premium  \n",
       "3  Super Premium  Brotinho_Tradicional_Super Premium  \n",
       "4  Super Premium  Brotinho_Tradicional_Super Premium  "
      ]
     },
     "execution_count": 100,
     "metadata": {},
     "output_type": "execute_result"
    }
   ],
   "source": [
    "df.head()"
   ]
  },
  {
   "cell_type": "code",
   "execution_count": 101,
   "metadata": {},
   "outputs": [],
   "source": [
    "dic_prizes = {\n",
    "    \"Brotinho_Tradicional_Super Premium\" : 34.90,\n",
    "    \"Brotinho_Tradicional_Premium\" : 31.90,\n",
    "    \"Brotinho_Tradicional_Especialidade\" : 28.90,\n",
    "\n",
    "    \"Média_Tradicional_Super Premium\" : 72.90,\n",
    "    \"Média_Tradicional_Premium\" : 66.90,\n",
    "    \"Média_Tradicional_Especialidade\" : 60.90,\n",
    "\n",
    "    \"Grande_Tradicional_Super Premium\" : 84.90,\n",
    "    \"Grande_Tradicional_Premium\" : 77.90,\n",
    "    \"Grande_Tradicional_Especialidade\" : 70.90,\n",
    "\n",
    "    \"Giga_Tradicional_Super Premium\" : 93.90,\n",
    "    \"Giga_Tradicional_Premium\" : 85.90,\n",
    "    \"Giga_Tradicional_Especialidade\" : 78.90,\n",
    "\n",
    "    \"Grande_Finissima_Super Premium\" : 62.90, \n",
    "    \"Grande_Finissima_Premium\" : 57.90, \n",
    "    \"Grande_Finissima_Especialidade\" : 52.90, \n",
    "\n",
    "    \"Média_Fina_Super Premium\" : 72.90, \n",
    "    \"Média_Fina_Premium\" : 66.90, \n",
    "    \"Média_Fina_Especialidade\" : 60.90, \n",
    "\n",
    "    \"Grande_Fina_Super Premium\" : 84.90, \n",
    "    \"Grande_Fina_Premium\" : 77.90, \n",
    "    \"Grande_Fina_Especialidade\" : 70.90, \n",
    "\n",
    "    \"Giga_Fina_Super Premium\" : 93.90, \n",
    "    \"Giga_Fina_Premium\" : 85.90, \n",
    "    \"Giga_Fina_Especialidade\" : 78.90, \n",
    "\n",
    "    \"Média_Pan_Super Premium\" : 62.90, \n",
    "    \"Média_Pan_Premium\" : 57.90, \n",
    "    \"Média_Pan_Especialidade\" : 52.90 \n",
    "\n",
    "}"
   ]
  },
  {
   "cell_type": "code",
   "execution_count": 102,
   "metadata": {},
   "outputs": [],
   "source": [
    "df['price'] = df['price'].map(dic_prizes)"
   ]
  },
  {
   "cell_type": "code",
   "execution_count": 103,
   "metadata": {},
   "outputs": [
    {
     "data": {
      "text/html": [
       "<div>\n",
       "<style scoped>\n",
       "    .dataframe tbody tr th:only-of-type {\n",
       "        vertical-align: middle;\n",
       "    }\n",
       "\n",
       "    .dataframe tbody tr th {\n",
       "        vertical-align: top;\n",
       "    }\n",
       "\n",
       "    .dataframe thead th {\n",
       "        text-align: right;\n",
       "    }\n",
       "</style>\n",
       "<table border=\"1\" class=\"dataframe\">\n",
       "  <thead>\n",
       "    <tr style=\"text-align: right;\">\n",
       "      <th></th>\n",
       "      <th>Size</th>\n",
       "      <th>Dough</th>\n",
       "      <th>MainFlavor</th>\n",
       "      <th>SecondFlavor</th>\n",
       "      <th>typeFlavor</th>\n",
       "      <th>price</th>\n",
       "    </tr>\n",
       "  </thead>\n",
       "  <tbody>\n",
       "    <tr>\n",
       "      <th>0</th>\n",
       "      <td>Brotinho</td>\n",
       "      <td>Tradicional</td>\n",
       "      <td>Frango com Barbecue</td>\n",
       "      <td>Frango com Barbecue</td>\n",
       "      <td>Super Premium</td>\n",
       "      <td>34.9</td>\n",
       "    </tr>\n",
       "    <tr>\n",
       "      <th>1</th>\n",
       "      <td>Brotinho</td>\n",
       "      <td>Tradicional</td>\n",
       "      <td>Frango com Barbecue</td>\n",
       "      <td>Meat &amp; Bacon</td>\n",
       "      <td>Super Premium</td>\n",
       "      <td>34.9</td>\n",
       "    </tr>\n",
       "    <tr>\n",
       "      <th>2</th>\n",
       "      <td>Brotinho</td>\n",
       "      <td>Tradicional</td>\n",
       "      <td>Frango com Barbecue</td>\n",
       "      <td>Extravaganzza®</td>\n",
       "      <td>Super Premium</td>\n",
       "      <td>34.9</td>\n",
       "    </tr>\n",
       "    <tr>\n",
       "      <th>3</th>\n",
       "      <td>Brotinho</td>\n",
       "      <td>Tradicional</td>\n",
       "      <td>Frango com Barbecue</td>\n",
       "      <td>Veggie®</td>\n",
       "      <td>Super Premium</td>\n",
       "      <td>34.9</td>\n",
       "    </tr>\n",
       "    <tr>\n",
       "      <th>4</th>\n",
       "      <td>Brotinho</td>\n",
       "      <td>Tradicional</td>\n",
       "      <td>Frango com Barbecue</td>\n",
       "      <td>Portuguesa</td>\n",
       "      <td>Super Premium</td>\n",
       "      <td>34.9</td>\n",
       "    </tr>\n",
       "  </tbody>\n",
       "</table>\n",
       "</div>"
      ],
      "text/plain": [
       "       Size        Dough           MainFlavor         SecondFlavor  \\\n",
       "0  Brotinho  Tradicional  Frango com Barbecue  Frango com Barbecue   \n",
       "1  Brotinho  Tradicional  Frango com Barbecue         Meat & Bacon   \n",
       "2  Brotinho  Tradicional  Frango com Barbecue       Extravaganzza®   \n",
       "3  Brotinho  Tradicional  Frango com Barbecue              Veggie®   \n",
       "4  Brotinho  Tradicional  Frango com Barbecue           Portuguesa   \n",
       "\n",
       "      typeFlavor  price  \n",
       "0  Super Premium   34.9  \n",
       "1  Super Premium   34.9  \n",
       "2  Super Premium   34.9  \n",
       "3  Super Premium   34.9  \n",
       "4  Super Premium   34.9  "
      ]
     },
     "execution_count": 103,
     "metadata": {},
     "output_type": "execute_result"
    }
   ],
   "source": [
    "df.head()"
   ]
  }
 ],
 "metadata": {
  "kernelspec": {
   "display_name": "Python 3.8.8 ('base')",
   "language": "python",
   "name": "python3"
  },
  "language_info": {
   "codemirror_mode": {
    "name": "ipython",
    "version": 3
   },
   "file_extension": ".py",
   "mimetype": "text/x-python",
   "name": "python",
   "nbconvert_exporter": "python",
   "pygments_lexer": "ipython3",
   "version": "3.8.8"
  },
  "orig_nbformat": 4,
  "vscode": {
   "interpreter": {
    "hash": "2a9c283881288bc8345488d89afcea2916cc52ed9130ad0e473a7427fa4f195f"
   }
  }
 },
 "nbformat": 4,
 "nbformat_minor": 2
}
